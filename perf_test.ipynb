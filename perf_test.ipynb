{
 "cells": [
  {
   "attachments": {},
   "cell_type": "markdown",
   "metadata": {},
   "source": [
    "A quick summary of the environment: Windows 11, i7-10 16GB RAM, RTX 2060 GPU w 6 GB RAM, VS Code, tensorflow\n",
    "1) Tensorflow + CUDA set up per https://www.tensorflow.org/install/pip; requires WSL\n",
    "2) VSCode set up to work with WSL per https://code.visualstudio.com/docs/remote/wsl\n",
    "\n",
    "Quick summary of results for training a simple model with 3 dense layers:\n",
    "1) WSL + GPU: 32 seconds\n",
    "2) WSL + CPU: 22 seconds\n",
    "3) Windows + CPU: 20 seconds\n",
    "Task manager also shows WSL taking a substantial amount of memory"
   ]
  },
  {
   "cell_type": "code",
   "execution_count": 4,
   "metadata": {},
   "outputs": [],
   "source": [
    "# Description: This file is used to test the performance of WSL + GPU vs WSL + CPU, vs Windows + CPU\n",
    "import os\n",
    "os.environ[\"TF_CPP_MIN_LOG_LEVEL\"] = \"2\"  # Suppress warnings about missing NUMA and TensorRT on WSL2\n",
    "import tensorflow as tf\n",
    "os.environ[\"TF_CPP_MIN_LOG_LEVEL\"] = \"0\"\n",
    "\n",
    "HAS_GPU = len (tf.config.list_physical_devices(\"GPU\")) > 0\n",
    "HAS_GPU = False"
   ]
  },
  {
   "cell_type": "code",
   "execution_count": 5,
   "metadata": {},
   "outputs": [
    {
     "name": "stdout",
     "output_type": "stream",
     "text": [
      "Epoch 1/10\n",
      "938/938 [==============================] - 3s 2ms/step - loss: 0.5368 - accuracy: 0.8070\n",
      "Epoch 2/10\n",
      "938/938 [==============================] - 2s 2ms/step - loss: 0.4050 - accuracy: 0.8514\n",
      "Epoch 3/10\n",
      "938/938 [==============================] - 2s 2ms/step - loss: 0.3720 - accuracy: 0.8640\n",
      "Epoch 4/10\n",
      "938/938 [==============================] - 2s 2ms/step - loss: 0.3515 - accuracy: 0.8693\n",
      "Epoch 5/10\n",
      "938/938 [==============================] - 2s 2ms/step - loss: 0.3369 - accuracy: 0.8752\n",
      "Epoch 6/10\n",
      "938/938 [==============================] - 2s 2ms/step - loss: 0.3240 - accuracy: 0.8801\n",
      "Epoch 7/10\n",
      "938/938 [==============================] - 2s 2ms/step - loss: 0.3109 - accuracy: 0.8844\n",
      "Epoch 8/10\n",
      "938/938 [==============================] - 2s 2ms/step - loss: 0.3039 - accuracy: 0.8867\n",
      "Epoch 9/10\n",
      "938/938 [==============================] - 2s 2ms/step - loss: 0.2959 - accuracy: 0.8905\n",
      "Epoch 10/10\n",
      "938/938 [==============================] - 2s 2ms/step - loss: 0.2889 - accuracy: 0.8924\n",
      "CPU Training time: 21.96 seconds\n"
     ]
    }
   ],
   "source": [
    "RANDOM_SEED = 12    # 12th man - go Seahawks!\n",
    "tf.random.set_seed(RANDOM_SEED)\n",
    "\n",
    "BATCH_SIZE = 64\n",
    "EPOCHS = 10\n",
    "\n",
    "(x_train, y_train), (x_test, y_test) = tf.keras.datasets.fashion_mnist.load_data()\n",
    "x_train = x_train/255.0\n",
    "x_test  = x_test/255.0\n",
    "\n",
    "def get_model():\n",
    "    model = tf.keras.Sequential([\n",
    "        tf.keras.layers.Flatten(input_shape=(28, 28)),\n",
    "        tf.keras.layers.Dense(256, activation='relu'),\n",
    "        tf.keras.layers.Dropout(0.3),\n",
    "        tf.keras.layers.Dense(128, activation='relu'),\n",
    "        tf.keras.layers.Dense(10)\n",
    "    ])\n",
    "    model.compile(optimizer='adam',\n",
    "              loss=tf.keras.losses.SparseCategoricalCrossentropy(from_logits=True),\n",
    "              metrics=['accuracy'])\n",
    "    return model\n",
    "\n",
    "if HAS_GPU:\n",
    "    model = get_model()\n",
    "    current_time = tf.timestamp()\n",
    "    model.fit(x_train, y_train, epochs=EPOCHS, batch_size=BATCH_SIZE)\n",
    "    elapsed_time = tf.timestamp() - current_time\n",
    "    print (f\"GPU Training time: {elapsed_time:.2f} seconds\")\n",
    "    print(f\"GPU:0 physical memory: {tf.config.experimental.get_memory_info('GPU:0')}\")\n",
    "\n",
    "with tf.device('/cpu:0'):\n",
    "    model = get_model()\n",
    "    current_time = tf.timestamp()\n",
    "    model.fit(x_train, y_train, epochs=EPOCHS, batch_size=BATCH_SIZE)\n",
    "    elapsed_time = tf.timestamp() - current_time\n",
    "    print (f\"CPU Training time: {elapsed_time:.2f} seconds\")\n"
   ]
  }
 ],
 "metadata": {
  "kernelspec": {
   "display_name": "tf",
   "language": "python",
   "name": "python3"
  },
  "language_info": {
   "codemirror_mode": {
    "name": "ipython",
    "version": 3
   },
   "file_extension": ".py",
   "mimetype": "text/x-python",
   "name": "python",
   "nbconvert_exporter": "python",
   "pygments_lexer": "ipython3",
   "version": "3.9.16"
  },
  "orig_nbformat": 4
 },
 "nbformat": 4,
 "nbformat_minor": 2
}
