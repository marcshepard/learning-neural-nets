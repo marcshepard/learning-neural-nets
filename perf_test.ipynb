{
 "cells": [
  {
   "attachments": {},
   "cell_type": "markdown",
   "metadata": {},
   "source": [
    "A quick summary of the environment: Windows 11, 2060 "
   ]
  },
  {
   "cell_type": "code",
   "execution_count": 1,
   "metadata": {},
   "outputs": [
    {
     "name": "stdout",
     "output_type": "stream",
     "text": [
      "[PhysicalDevice(name='/physical_device:GPU:0', device_type='GPU')]\n",
      "GPU:0 physical memory: {'current': 0, 'peak': 0}\n"
     ]
    }
   ],
   "source": [
    "import os\n",
    "os.environ[\"TF_CPP_MIN_LOG_LEVEL\"] = \"2\"\n",
    "import tensorflow as tf\n",
    "os.environ[\"TF_CPP_MIN_LOG_LEVEL\"] = \"0\"\n",
    "print (tf.config.list_physical_devices(\"GPU\"))\n",
    "if len (tf.config.list_physical_devices(\"GPU\")) > 0:\n",
    "    print(f\"GPU:0 physical memory: {tf.config.experimental.get_memory_info('GPU:0')}\")"
   ]
  },
  {
   "cell_type": "code",
   "execution_count": 2,
   "metadata": {},
   "outputs": [
    {
     "ename": "AttributeError",
     "evalue": "'NoneType' object has no attribute 'fit'",
     "output_type": "error",
     "traceback": [
      "\u001b[0;31m---------------------------------------------------------------------------\u001b[0m",
      "\u001b[0;31mAttributeError\u001b[0m                            Traceback (most recent call last)",
      "Cell \u001b[0;32mIn[2], line 25\u001b[0m\n\u001b[1;32m     23\u001b[0m model \u001b[39m=\u001b[39m get_model()\n\u001b[1;32m     24\u001b[0m current_time \u001b[39m=\u001b[39m tf\u001b[39m.\u001b[39mtimestamp()\n\u001b[0;32m---> 25\u001b[0m model\u001b[39m.\u001b[39;49mfit(x_train, y_train, epochs\u001b[39m=\u001b[39mEPOCHS, batch_size\u001b[39m=\u001b[39mBATCH_SIZE)\n\u001b[1;32m     26\u001b[0m elapsed_time \u001b[39m=\u001b[39m tf\u001b[39m.\u001b[39mtimestamp() \u001b[39m-\u001b[39m current_time\n\u001b[1;32m     27\u001b[0m \u001b[39mprint\u001b[39m (\u001b[39mf\u001b[39m\u001b[39m\"\u001b[39m\u001b[39mGPU Training time: \u001b[39m\u001b[39m{\u001b[39;00melapsed_time\u001b[39m:\u001b[39;00m\u001b[39m.2f\u001b[39m\u001b[39m}\u001b[39;00m\u001b[39m seconds\u001b[39m\u001b[39m\"\u001b[39m)\n",
      "\u001b[0;31mAttributeError\u001b[0m: 'NoneType' object has no attribute 'fit'"
     ]
    }
   ],
   "source": [
    "RANDOM_SEED = 12    # 12th man - go Seahawks!\n",
    "tf.random.set_seed(RANDOM_SEED)\n",
    "\n",
    "BATCH_SIZE = 64\n",
    "EPOCHS = 10\n",
    "\n",
    "(x_train, y_train), (x_test, y_test) = tf.keras.datasets.fashion_mnist.load_data()\n",
    "x_train = x_train/255.0\n",
    "x_test  = x_test/255.0\n",
    "\n",
    "def get_model():\n",
    "    model = tf.keras.Sequential([\n",
    "        tf.keras.layers.Flatten(input_shape=(28, 28)),\n",
    "        tf.keras.layers.Dense(256, activation='relu'),\n",
    "        tf.keras.layers.Dropout(0.3),\n",
    "        tf.keras.layers.Dense(128, activation='relu'),\n",
    "        tf.keras.layers.Dense(10)\n",
    "    ])\n",
    "    model.compile(optimizer='adam',\n",
    "              loss=tf.keras.losses.SparseCategoricalCrossentropy(from_logits=True),\n",
    "              metrics=['accuracy'])\n",
    "    return model\n",
    "\n",
    "model = get_model()\n",
    "current_time = tf.timestamp()\n",
    "model.fit(x_train, y_train, epochs=EPOCHS, batch_size=BATCH_SIZE)\n",
    "elapsed_time = tf.timestamp() - current_time\n",
    "print (f\"GPU Training time: {elapsed_time:.2f} seconds\")\n",
    "if len (tf.config.list_physical_devices(\"GPU\")) > 0:\n",
    "    print(f\"GPU:0 physical memory: {tf.config.experimental.get_memory_info('GPU:0')}\")\n",
    "\n",
    "with tf.device('/cpu:0'):\n",
    "    model = get_model()\n",
    "    current_time = tf.timestamp()\n",
    "    model.fit(x_train, y_train, epochs=EPOCHS, batch_size=BATCH_SIZE)\n",
    "    elapsed_time = tf.timestamp() - current_time\n",
    "    print (f\"CPU Training time: {elapsed_time:.2f} seconds\")\n",
    "if len (tf.config.list_physical_devices(\"GPU\")) > 0:\n",
    "    print(f\"GPU:0 physical memory: {tf.config.experimental.get_memory_info('GPU:0')}\")"
   ]
  }
 ],
 "metadata": {
  "kernelspec": {
   "display_name": "tf",
   "language": "python",
   "name": "python3"
  },
  "language_info": {
   "codemirror_mode": {
    "name": "ipython",
    "version": 3
   },
   "file_extension": ".py",
   "mimetype": "text/x-python",
   "name": "python",
   "nbconvert_exporter": "python",
   "pygments_lexer": "ipython3",
   "version": "3.9.16"
  },
  "orig_nbformat": 4
 },
 "nbformat": 4,
 "nbformat_minor": 2
}
